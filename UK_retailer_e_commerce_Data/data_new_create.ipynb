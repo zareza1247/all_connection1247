{
 "cells": [
  {
   "cell_type": "code",
   "execution_count": 3,
   "metadata": {},
   "outputs": [],
   "source": [
    "import pandas as pd\n",
    "import numpy as np"
   ]
  },
  {
   "cell_type": "code",
   "execution_count": 5,
   "metadata": {},
   "outputs": [],
   "source": [
    "# df = pd.read_csv('UK_retailer_ecommerce_data1.csv', delimiter=',')\n",
    "df_clean = pd.read_csv('UK_ecommerce_data6.csv', delimiter=';')"
   ]
  },
  {
   "cell_type": "code",
   "execution_count": 6,
   "metadata": {},
   "outputs": [],
   "source": [
    "pattern_keywords = [\n",
    "    'check', 'damaged', 'damages', 'found', 'sold as', 'adjustment', 'amazon', \n",
    "    'thrown away', 'unsaleable', 'dotcom', 'had been put aside', 'ebay', 'wet', \n",
    "    'missing', 'smashed', 'incorrect', 'mailout', 'crushed', 'metal sign', \n",
    "    'wet pallet', 'wax', 'dotcom sales', 'mixed up', 'printing', 'returned', \n",
    "    'reverse', 'rusty', 'samples', 'stock check', 'test', 'water', 'counted', \n",
    "    'discount', 'carriage', 'manual', 'pads to match', 'bad debt', 'commission', \n",
    "    r'\\b[b]\\b', r'^\\?', r'^\\*', r'^\\d{5,}', r'^\\?+', 'lost', 'display'\n",
    "]\n",
    "\n",
    "# Convert the patterns to a single regex string using `|` (OR operator)\n",
    "pattern_regex = '|'.join(pattern_keywords)\n",
    "\n",
    "# Vectorized approach to create the 'is_real_product' column\n",
    "df['is_real_product'] = np.where(\n",
    "    df['Description'].str.lower().str.contains(pattern_regex, na=False), 0, 1\n",
    ")\n",
    "\n",
    "# Filter the rows with real products\n",
    "df_clean = df[df['is_real_product'] == 1]\n",
    "\n",
    "# Now df_clean contains only the real product descriptions"
   ]
  },
  {
   "cell_type": "code",
   "execution_count": 7,
   "metadata": {},
   "outputs": [],
   "source": [
    "df_clean.to_csv('UK_ecommerce_data3.csv', index=False, encoding='utf-8')"
   ]
  },
  {
   "cell_type": "code",
   "execution_count": 2,
   "metadata": {},
   "outputs": [],
   "source": [
    "df_clean = pd.read_csv('UK_ecommerce_data3.csv', delimiter=',')"
   ]
  },
  {
   "cell_type": "code",
   "execution_count": null,
   "metadata": {},
   "outputs": [
    {
     "name": "stdout",
     "output_type": "stream",
     "text": [
      "<class 'pandas.core.frame.DataFrame'>\n",
      "RangeIndex: 512036 entries, 0 to 512035\n",
      "Data columns (total 9 columns):\n",
      " #   Column           Non-Null Count   Dtype  \n",
      "---  ------           --------------   -----  \n",
      " 0   InvoiceNo        512036 non-null  object \n",
      " 1   StockCode        512036 non-null  object \n",
      " 2   Description      512036 non-null  object \n",
      " 3   Quantity         512036 non-null  int64  \n",
      " 4   InvoiceDate      512036 non-null  object \n",
      " 5   UnitPrice        512036 non-null  float64\n",
      " 6   CustomerID       385882 non-null  float64\n",
      " 7   Country          512036 non-null  object \n",
      " 8   is_real_product  512036 non-null  int64  \n",
      "dtypes: float64(2), int64(2), object(5)\n",
      "memory usage: 35.2+ MB\n"
     ]
    }
   ],
   "source": [
    "df_clean.info() # count of previous 512036 before df_clean2"
   ]
  },
  {
   "cell_type": "code",
   "execution_count": 7,
   "metadata": {},
   "outputs": [
    {
     "name": "stdout",
     "output_type": "stream",
     "text": [
      "<class 'pandas.core.frame.DataFrame'>\n",
      "Index: 511999 entries, 0 to 512035\n",
      "Data columns (total 9 columns):\n",
      " #   Column           Non-Null Count   Dtype  \n",
      "---  ------           --------------   -----  \n",
      " 0   InvoiceNo        511999 non-null  object \n",
      " 1   StockCode        511999 non-null  object \n",
      " 2   Description      511999 non-null  object \n",
      " 3   Quantity         511999 non-null  int64  \n",
      " 4   InvoiceDate      511999 non-null  object \n",
      " 5   UnitPrice        511999 non-null  float64\n",
      " 6   CustomerID       385870 non-null  float64\n",
      " 7   Country          511999 non-null  object \n",
      " 8   is_real_product  511999 non-null  int64  \n",
      "dtypes: float64(2), int64(2), object(5)\n",
      "memory usage: 39.1+ MB\n"
     ]
    }
   ],
   "source": [
    "df_clean2.info()"
   ]
  },
  {
   "cell_type": "code",
   "execution_count": null,
   "metadata": {},
   "outputs": [
    {
     "name": "stdout",
     "output_type": "stream",
     "text": [
      "<class 'pandas.core.frame.DataFrame'>\n",
      "RangeIndex: 540455 entries, 0 to 540454\n",
      "Data columns (total 9 columns):\n",
      " #   Column           Non-Null Count   Dtype  \n",
      "---  ------           --------------   -----  \n",
      " 0   InvoiceNo        540455 non-null  object \n",
      " 1   StockCode        540455 non-null  object \n",
      " 2   Description      540455 non-null  object \n",
      " 3   Quantity         540455 non-null  int64  \n",
      " 4   InvoiceDate      540455 non-null  object \n",
      " 5   UnitPrice        540455 non-null  float64\n",
      " 6   CustomerID       406829 non-null  float64\n",
      " 7   Country          540455 non-null  object \n",
      " 8   is_real_product  540455 non-null  int64  \n",
      "dtypes: float64(2), int64(2), object(5)\n",
      "memory usage: 37.1+ MB\n"
     ]
    },
    {
     "ename": "",
     "evalue": "",
     "output_type": "error",
     "traceback": [
      "\u001b[1;31mThe Kernel crashed while executing code in the current cell or a previous cell. \n",
      "\u001b[1;31mPlease review the code in the cell(s) to identify a possible cause of the failure. \n",
      "\u001b[1;31mClick <a href='https://aka.ms/vscodeJupyterKernelCrash'>here</a> for more info. \n",
      "\u001b[1;31mView Jupyter <a href='command:jupyter.viewOutput'>log</a> for further details."
     ]
    }
   ],
   "source": [
    "df.info()"
   ]
  },
  {
   "cell_type": "code",
   "execution_count": 10,
   "metadata": {},
   "outputs": [
    {
     "name": "stdout",
     "output_type": "stream",
     "text": [
      "  InvoiceNo StockCode                         Description  Quantity  \\\n",
      "0    536365    85123A  WHITE HANGING HEART T-LIGHT HOLDER         6   \n",
      "1    536365     71053                 WHITE METAL LANTERN         6   \n",
      "2    536365    84406B      CREAM CUPID HEARTS COAT HANGER         8   \n",
      "4    536365    84029E      RED WOOLLY HOTTIE WHITE HEART.         6   \n",
      "5    536365     22752        SET 7 BABUSHKA NESTING BOXES         2   \n",
      "\n",
      "        InvoiceDate  UnitPrice  CustomerID         Country  is_real_product  \n",
      "0  2010-12-01 08:26       2.55     17850.0  United Kingdom                1  \n",
      "1  2010-12-01 08:26       3.39     17850.0  United Kingdom                1  \n",
      "2  2010-12-01 08:26       2.75     17850.0  United Kingdom                1  \n",
      "4  2010-12-01 08:26       3.39     17850.0  United Kingdom                1  \n",
      "5  2010-12-01 08:26       7.65     17850.0  United Kingdom                1  \n"
     ]
    }
   ],
   "source": [
    "print(df_clean.head())"
   ]
  },
  {
   "cell_type": "code",
   "execution_count": 11,
   "metadata": {},
   "outputs": [
    {
     "data": {
      "text/html": [
       "<div>\n",
       "<style scoped>\n",
       "    .dataframe tbody tr th:only-of-type {\n",
       "        vertical-align: middle;\n",
       "    }\n",
       "\n",
       "    .dataframe tbody tr th {\n",
       "        vertical-align: top;\n",
       "    }\n",
       "\n",
       "    .dataframe thead th {\n",
       "        text-align: right;\n",
       "    }\n",
       "</style>\n",
       "<table border=\"1\" class=\"dataframe\">\n",
       "  <thead>\n",
       "    <tr style=\"text-align: right;\">\n",
       "      <th></th>\n",
       "      <th>InvoiceNo</th>\n",
       "      <th>StockCode</th>\n",
       "      <th>Description</th>\n",
       "      <th>Quantity</th>\n",
       "      <th>InvoiceDate</th>\n",
       "      <th>UnitPrice</th>\n",
       "      <th>CustomerID</th>\n",
       "      <th>Country</th>\n",
       "      <th>is_real_product</th>\n",
       "    </tr>\n",
       "  </thead>\n",
       "  <tbody>\n",
       "    <tr>\n",
       "      <th>540450</th>\n",
       "      <td>581587</td>\n",
       "      <td>22613</td>\n",
       "      <td>PACK OF 20 SPACEBOY NAPKINS</td>\n",
       "      <td>12</td>\n",
       "      <td>2011-12-09 12:50</td>\n",
       "      <td>0.85</td>\n",
       "      <td>12680.0</td>\n",
       "      <td>France</td>\n",
       "      <td>1</td>\n",
       "    </tr>\n",
       "    <tr>\n",
       "      <th>540451</th>\n",
       "      <td>581587</td>\n",
       "      <td>22899</td>\n",
       "      <td>CHILDREN'S APRON DOLLY GIRL</td>\n",
       "      <td>6</td>\n",
       "      <td>2011-12-09 12:50</td>\n",
       "      <td>2.10</td>\n",
       "      <td>12680.0</td>\n",
       "      <td>France</td>\n",
       "      <td>1</td>\n",
       "    </tr>\n",
       "    <tr>\n",
       "      <th>540452</th>\n",
       "      <td>581587</td>\n",
       "      <td>23254</td>\n",
       "      <td>CHILDRENS CUTLERY DOLLY GIRL</td>\n",
       "      <td>4</td>\n",
       "      <td>2011-12-09 12:50</td>\n",
       "      <td>4.15</td>\n",
       "      <td>12680.0</td>\n",
       "      <td>France</td>\n",
       "      <td>1</td>\n",
       "    </tr>\n",
       "    <tr>\n",
       "      <th>540453</th>\n",
       "      <td>581587</td>\n",
       "      <td>23255</td>\n",
       "      <td>CHILDRENS CUTLERY CIRCUS PARADE</td>\n",
       "      <td>4</td>\n",
       "      <td>2011-12-09 12:50</td>\n",
       "      <td>4.15</td>\n",
       "      <td>12680.0</td>\n",
       "      <td>France</td>\n",
       "      <td>1</td>\n",
       "    </tr>\n",
       "    <tr>\n",
       "      <th>540454</th>\n",
       "      <td>581587</td>\n",
       "      <td>22138</td>\n",
       "      <td>BAKING SET 9 PIECE RETROSPOT</td>\n",
       "      <td>3</td>\n",
       "      <td>2011-12-09 12:50</td>\n",
       "      <td>4.95</td>\n",
       "      <td>12680.0</td>\n",
       "      <td>France</td>\n",
       "      <td>1</td>\n",
       "    </tr>\n",
       "  </tbody>\n",
       "</table>\n",
       "</div>"
      ],
      "text/plain": [
       "       InvoiceNo StockCode                      Description  Quantity  \\\n",
       "540450    581587     22613      PACK OF 20 SPACEBOY NAPKINS        12   \n",
       "540451    581587     22899     CHILDREN'S APRON DOLLY GIRL          6   \n",
       "540452    581587     23254    CHILDRENS CUTLERY DOLLY GIRL          4   \n",
       "540453    581587     23255  CHILDRENS CUTLERY CIRCUS PARADE         4   \n",
       "540454    581587     22138    BAKING SET 9 PIECE RETROSPOT          3   \n",
       "\n",
       "             InvoiceDate  UnitPrice  CustomerID Country  is_real_product  \n",
       "540450  2011-12-09 12:50       0.85     12680.0  France                1  \n",
       "540451  2011-12-09 12:50       2.10     12680.0  France                1  \n",
       "540452  2011-12-09 12:50       4.15     12680.0  France                1  \n",
       "540453  2011-12-09 12:50       4.15     12680.0  France                1  \n",
       "540454  2011-12-09 12:50       4.95     12680.0  France                1  "
      ]
     },
     "execution_count": 11,
     "metadata": {},
     "output_type": "execute_result"
    }
   ],
   "source": [
    "df_clean.tail()"
   ]
  },
  {
   "cell_type": "code",
   "execution_count": 5,
   "metadata": {},
   "outputs": [],
   "source": [
    "df_clean2 = df_clean.copy()"
   ]
  },
  {
   "cell_type": "code",
   "execution_count": 6,
   "metadata": {},
   "outputs": [],
   "source": [
    "# Filtering out rows where StockCode contains certain ambiguous values\n",
    "# df_clean2 = df_clean2[~df_clean2['StockCode'].str.contains('gift|post|bank_charges', case=False, na=False)]\n",
    "\n",
    "# making another filter with the correct \"bank charges\" as value in the stockcode column\n",
    "df_clean2 = df_clean2[~df_clean2['StockCode'].str.contains('bank charges', case=False, na=False)]\n",
    "\n"
   ]
  },
  {
   "cell_type": "code",
   "execution_count": 8,
   "metadata": {},
   "outputs": [
    {
     "name": "stdout",
     "output_type": "stream",
     "text": [
      "        InvoiceDate\n",
      "0  12/01/2010 08:26\n",
      "1  12/01/2010 08:26\n",
      "2  12/01/2010 08:26\n",
      "3  12/01/2010 08:26\n",
      "4  12/01/2010 08:26\n"
     ]
    }
   ],
   "source": [
    "# Convert 'InvoiceDate' to datetime (if not already)\n",
    "df_clean2['InvoiceDate'] = pd.to_datetime(df_clean2['InvoiceDate'])\n",
    "\n",
    "# Format 'InvoiceDate' to the desired format (12/1/2010 8:26)\n",
    "df_clean2['InvoiceDate'] = df_clean2['InvoiceDate'].dt.strftime('%m/%d/%Y %H:%M')\n",
    "\n",
    "# Check the result\n",
    "print(df_clean2[['InvoiceDate']].head())"
   ]
  },
  {
   "cell_type": "code",
   "execution_count": null,
   "metadata": {},
   "outputs": [
    {
     "ename": "",
     "evalue": "",
     "output_type": "error",
     "traceback": [
      "\u001b[1;31mThe Kernel crashed while executing code in the current cell or a previous cell. \n",
      "\u001b[1;31mPlease review the code in the cell(s) to identify a possible cause of the failure. \n",
      "\u001b[1;31mClick <a href='https://aka.ms/vscodeJupyterKernelCrash'>here</a> for more info. \n",
      "\u001b[1;31mView Jupyter <a href='command:jupyter.viewOutput'>log</a> for further details."
     ]
    }
   ],
   "source": [
    "df_clean2.to_csv('UK_ecommerce_data6.csv', index=False, encoding='utf-8')"
   ]
  },
  {
   "cell_type": "code",
   "execution_count": 7,
   "metadata": {},
   "outputs": [
    {
     "name": "stdout",
     "output_type": "stream",
     "text": [
      "<class 'pandas.core.frame.DataFrame'>\n",
      "Index: 512036 entries, 0 to 513288\n",
      "Data columns (total 9 columns):\n",
      " #   Column           Non-Null Count   Dtype  \n",
      "---  ------           --------------   -----  \n",
      " 0   InvoiceNo        512036 non-null  object \n",
      " 1   StockCode        512036 non-null  object \n",
      " 2   Description      512036 non-null  object \n",
      " 3   Quantity         512036 non-null  int64  \n",
      " 4   InvoiceDate      512036 non-null  object \n",
      " 5   UnitPrice        512036 non-null  float64\n",
      " 6   CustomerID       385882 non-null  float64\n",
      " 7   Country          512036 non-null  object \n",
      " 8   is_real_product  512036 non-null  int64  \n",
      "dtypes: float64(2), int64(2), object(5)\n",
      "memory usage: 39.1+ MB\n"
     ]
    }
   ],
   "source": [
    "df_clean2.info()"
   ]
  },
  {
   "cell_type": "code",
   "execution_count": 6,
   "metadata": {},
   "outputs": [
    {
     "name": "stdout",
     "output_type": "stream",
     "text": [
      "0          WHITE HANGING HEART T-LIGHT HOLDER\n",
      "1                         WHITE METAL LANTERN\n",
      "2              CREAM CUPID HEARTS COAT HANGER\n",
      "3              RED WOOLLY HOTTIE WHITE HEART.\n",
      "4                SET 7 BABUSHKA NESTING BOXES\n",
      "                         ...                 \n",
      "480016         SET 10 CARDS SNOWY ROBIN 17099\n",
      "484461    SET 10 CARDS SWIRLY XMAS TREE 17104\n",
      "498026              LETTER \"U\" BLING KEY RING\n",
      "507961     CREAM HANGING HEART T-LIGHT HOLDER\n",
      "510592            PAPER CRAFT , LITTLE BIRDIE\n",
      "Name: Description, Length: 3969, dtype: object\n"
     ]
    }
   ],
   "source": [
    "distinct_descriptions = df_clean['Description'].drop_duplicates()\n",
    "\n",
    "# Display the result\n",
    "print(distinct_descriptions)"
   ]
  },
  {
   "cell_type": "code",
   "execution_count": 9,
   "metadata": {},
   "outputs": [],
   "source": [
    "# distinct_descriptions.info()\n",
    "\n",
    "distinct_descriptions.to_csv('distinct_descriptions.csv', index=False, encoding='utf-8')"
   ]
  }
 ],
 "metadata": {
  "kernelspec": {
   "display_name": "venv_UK_retailer",
   "language": "python",
   "name": "python3"
  },
  "language_info": {
   "codemirror_mode": {
    "name": "ipython",
    "version": 3
   },
   "file_extension": ".py",
   "mimetype": "text/x-python",
   "name": "python",
   "nbconvert_exporter": "python",
   "pygments_lexer": "ipython3",
   "version": "3.11.4"
  }
 },
 "nbformat": 4,
 "nbformat_minor": 2
}
