{
 "cells": [
  {
   "cell_type": "code",
   "execution_count": 1,
   "metadata": {},
   "outputs": [],
   "source": [
    "import pandas as pd\n",
    "import numpy as np"
   ]
  },
  {
   "cell_type": "code",
   "execution_count": 2,
   "metadata": {},
   "outputs": [],
   "source": [
    "import matplotlib.pyplot as plt\n",
    "import plotly.express as px\n",
    "# import seaborn as sns"
   ]
  },
  {
   "cell_type": "code",
   "execution_count": 3,
   "metadata": {},
   "outputs": [],
   "source": [
    "from sklearn import cluster\n",
    "from sklearn.preprocessing import LabelEncoder"
   ]
  },
  {
   "cell_type": "code",
   "execution_count": 4,
   "metadata": {},
   "outputs": [],
   "source": [
    "from sklearn.datasets import make_blobs\n",
    "from sklearn.cluster import KMeans \n",
    "from sklearn.metrics import silhouette_samples, silhouette_score"
   ]
  },
  {
   "cell_type": "code",
   "execution_count": 5,
   "metadata": {},
   "outputs": [],
   "source": [
    "import chardet"
   ]
  },
  {
   "cell_type": "markdown",
   "metadata": {},
   "source": [
    "original data"
   ]
  },
  {
   "cell_type": "code",
   "execution_count": 14,
   "metadata": {},
   "outputs": [],
   "source": [
    "# df = pd.read_csv('UK_retailer_e_commerce_Data/data.csv', encoding='latin1')"
   ]
  },
  {
   "cell_type": "markdown",
   "metadata": {},
   "source": [
    "second data"
   ]
  },
  {
   "cell_type": "code",
   "execution_count": 6,
   "metadata": {},
   "outputs": [],
   "source": [
    "df = pd.read_csv('UK_retailer_e_commerce_Data/UK_retailer_ecommerce_data1.csv', delimiter=',')"
   ]
  },
  {
   "cell_type": "code",
   "execution_count": 21,
   "metadata": {},
   "outputs": [
    {
     "name": "stdout",
     "output_type": "stream",
     "text": [
      "  InvoiceNo StockCode                          Description  Quantity  \\\n",
      "0    536365    85123A   WHITE HANGING HEART T-LIGHT HOLDER         6   \n",
      "1    536365     71053                  WHITE METAL LANTERN         6   \n",
      "2    536365    84406B       CREAM CUPID HEARTS COAT HANGER         8   \n",
      "3    536365    84029G  KNITTED UNION FLAG HOT WATER BOTTLE         6   \n",
      "4    536365    84029E       RED WOOLLY HOTTIE WHITE HEART.         6   \n",
      "\n",
      "        InvoiceDate  UnitPrice  CustomerID         Country  \n",
      "0  2010-12-01 08:26       2.55     17850.0  United Kingdom  \n",
      "1  2010-12-01 08:26       3.39     17850.0  United Kingdom  \n",
      "2  2010-12-01 08:26       2.75     17850.0  United Kingdom  \n",
      "3  2010-12-01 08:26       3.39     17850.0  United Kingdom  \n",
      "4  2010-12-01 08:26       3.39     17850.0  United Kingdom  \n"
     ]
    }
   ],
   "source": [
    "# Round all numeric columns in the dataframe to 2 decimal places\n",
    "df = df.round(2)\n",
    "\n",
    "# Display the updated dataframe to verify\n",
    "print(df.head())"
   ]
  },
  {
   "cell_type": "code",
   "execution_count": 22,
   "metadata": {},
   "outputs": [],
   "source": [
    "# Assume df is your dataframe\n",
    "# Parse the InvoiceDate column as datetime\n",
    "df['InvoiceDate'] = pd.to_datetime(df['InvoiceDate'], format='%m/%d/%Y %H:%M')\n",
    "\n",
    "# Convert it to the desired format\n",
    "df['InvoiceDate'] = df['InvoiceDate'].dt.strftime('%Y-%m-%d %H:%M')"
   ]
  },
  {
   "cell_type": "markdown",
   "metadata": {},
   "source": [
    "download"
   ]
  },
  {
   "cell_type": "code",
   "execution_count": 61,
   "metadata": {},
   "outputs": [],
   "source": [
    "df.to_csv('UK_retailer_e_commerce_Data/UK_retailer_ecommerce_data1.csv', index=False, encoding='utf-8')"
   ]
  },
  {
   "cell_type": "code",
   "execution_count": 50,
   "metadata": {},
   "outputs": [
    {
     "name": "stdout",
     "output_type": "stream",
     "text": [
      "  InvoiceNo StockCode                          Description  Quantity  \\\n",
      "0    536365    85123A   WHITE HANGING HEART T-LIGHT HOLDER         6   \n",
      "1    536365     71053                  WHITE METAL LANTERN         6   \n",
      "2    536365    84406B       CREAM CUPID HEARTS COAT HANGER         8   \n",
      "3    536365    84029G  KNITTED UNION FLAG HOT WATER BOTTLE         6   \n",
      "4    536365    84029E       RED WOOLLY HOTTIE WHITE HEART.         6   \n",
      "\n",
      "        InvoiceDate  UnitPrice  CustomerID         Country  \n",
      "0  2010-12-01 08:26       2.55     17850.0  United Kingdom  \n",
      "1  2010-12-01 08:26       3.39     17850.0  United Kingdom  \n",
      "2  2010-12-01 08:26       2.75     17850.0  United Kingdom  \n",
      "3  2010-12-01 08:26       3.39     17850.0  United Kingdom  \n",
      "4  2010-12-01 08:26       3.39     17850.0  United Kingdom  \n"
     ]
    }
   ],
   "source": [
    "# df.info()\n",
    "print(df.head())"
   ]
  },
  {
   "cell_type": "code",
   "execution_count": null,
   "metadata": {},
   "outputs": [],
   "source": [
    "non_numeric_ids = df[~df['InvoiceNo'].astype(str).str.isdigit()]\n",
    "\n",
    "print(non_numeric_ids)"
   ]
  },
  {
   "cell_type": "code",
   "execution_count": 35,
   "metadata": {},
   "outputs": [
    {
     "name": "stdout",
     "output_type": "stream",
     "text": [
      "InvoiceNo               C537630\n",
      "StockCode             AMAZONFEE\n",
      "Description          AMAZON FEE\n",
      "Quantity                     -1\n",
      "InvoiceDate    2010-12-07 15:04\n",
      "UnitPrice              13541.33\n",
      "CustomerID                  NaN\n",
      "Country          United Kingdom\n",
      "Name: 15016, dtype: object\n"
     ]
    }
   ],
   "source": [
    "# looking for a poarticular row\n",
    "row_623 = df.iloc[15016]\n",
    "\n",
    "print(row_623)"
   ]
  },
  {
   "cell_type": "code",
   "execution_count": 42,
   "metadata": {},
   "outputs": [
    {
     "name": "stdout",
     "output_type": "stream",
     "text": [
      "6\n"
     ]
    }
   ],
   "source": [
    "# Assuming 'InvoiceNo' is the column you're interested in\n",
    "value = df['InvoiceNo'][536552]  # Access the value at row 0\n",
    "num_characters = len(str(value))  # Convert to string just in case it's not\n",
    "print(num_characters)"
   ]
  },
  {
   "cell_type": "markdown",
   "metadata": {},
   "source": [
    "To filter a record in a pandas DataFrame based on values in specific columns (e.g., InvoiceID and StockCode), you can use filtering with logical conditions. Here's how:\n"
   ]
  },
  {
   "cell_type": "code",
   "execution_count": 69,
   "metadata": {},
   "outputs": [
    {
     "data": {
      "text/html": [
       "<div>\n",
       "<style scoped>\n",
       "    .dataframe tbody tr th:only-of-type {\n",
       "        vertical-align: middle;\n",
       "    }\n",
       "\n",
       "    .dataframe tbody tr th {\n",
       "        vertical-align: top;\n",
       "    }\n",
       "\n",
       "    .dataframe thead th {\n",
       "        text-align: right;\n",
       "    }\n",
       "</style>\n",
       "<table border=\"1\" class=\"dataframe\">\n",
       "  <thead>\n",
       "    <tr style=\"text-align: right;\">\n",
       "      <th></th>\n",
       "      <th>InvoiceNo</th>\n",
       "      <th>StockCode</th>\n",
       "      <th>Description</th>\n",
       "      <th>Quantity</th>\n",
       "      <th>InvoiceDate</th>\n",
       "      <th>UnitPrice</th>\n",
       "      <th>CustomerID</th>\n",
       "      <th>Country</th>\n",
       "    </tr>\n",
       "  </thead>\n",
       "  <tbody>\n",
       "    <tr>\n",
       "      <th>176402</th>\n",
       "      <td>552042</td>\n",
       "      <td>21199</td>\n",
       "      <td>PINK  HEART CONFETTI IN TUBE</td>\n",
       "      <td>12</td>\n",
       "      <td>2011-05-06 09:00</td>\n",
       "      <td>1.65</td>\n",
       "      <td>13952.0</td>\n",
       "      <td>United Kingdom</td>\n",
       "    </tr>\n",
       "  </tbody>\n",
       "</table>\n",
       "</div>"
      ],
      "text/plain": [
       "       InvoiceNo StockCode                   Description  Quantity  \\\n",
       "176402    552042     21199  PINK  HEART CONFETTI IN TUBE        12   \n",
       "\n",
       "             InvoiceDate  UnitPrice  CustomerID         Country  \n",
       "176402  2011-05-06 09:00       1.65     13952.0  United Kingdom  "
      ]
     },
     "execution_count": 69,
     "metadata": {},
     "output_type": "execute_result"
    }
   ],
   "source": [
    "# Assuming 'InvoiceID' and 'StockCode' are column names    552042\t21199\n",
    "\n",
    "invoice_id = '552042'  # Replace with the desired InvoiceID\n",
    "stock_code = '21199'  # Replace with the desired StockCode\n",
    "\n",
    "# Filter for the specific record\n",
    "filtered_record = df[(df['InvoiceNo'] == invoice_id) & (df['StockCode'] == stock_code)]\n",
    "\n",
    "# print(filtered_record)\n",
    "filtered_record"
   ]
  },
  {
   "cell_type": "markdown",
   "metadata": {},
   "source": []
  },
  {
   "cell_type": "markdown",
   "metadata": {},
   "source": [
    "Find the records with null values in description "
   ]
  },
  {
   "cell_type": "code",
   "execution_count": null,
   "metadata": {},
   "outputs": [],
   "source": [
    "# Find rows where the Description column is null\n",
    "null_descriptions = df[df['Description'].isnull()]\n",
    "\n",
    "# Display the rows with null values\n",
    "print(null_descriptions)"
   ]
  },
  {
   "cell_type": "code",
   "execution_count": 57,
   "metadata": {},
   "outputs": [
    {
     "name": "stdout",
     "output_type": "stream",
     "text": [
      "Number of null values in Description: 1454\n"
     ]
    }
   ],
   "source": [
    "num_null_descriptions = df['Description'].isnull().sum()\n",
    "print(f\"Number of null values in Description: {num_null_descriptions}\")"
   ]
  },
  {
   "cell_type": "markdown",
   "metadata": {},
   "source": [
    "deleting those null in the description records"
   ]
  },
  {
   "cell_type": "code",
   "execution_count": 58,
   "metadata": {},
   "outputs": [
    {
     "name": "stdout",
     "output_type": "stream",
     "text": [
      "       InvoiceNo StockCode                          Description  Quantity  \\\n",
      "0         536365    85123A   WHITE HANGING HEART T-LIGHT HOLDER         6   \n",
      "1         536365     71053                  WHITE METAL LANTERN         6   \n",
      "2         536365    84406B       CREAM CUPID HEARTS COAT HANGER         8   \n",
      "3         536365    84029G  KNITTED UNION FLAG HOT WATER BOTTLE         6   \n",
      "4         536365    84029E       RED WOOLLY HOTTIE WHITE HEART.         6   \n",
      "...          ...       ...                                  ...       ...   \n",
      "541904    581587     22613          PACK OF 20 SPACEBOY NAPKINS        12   \n",
      "541905    581587     22899         CHILDREN'S APRON DOLLY GIRL          6   \n",
      "541906    581587     23254        CHILDRENS CUTLERY DOLLY GIRL          4   \n",
      "541907    581587     23255      CHILDRENS CUTLERY CIRCUS PARADE         4   \n",
      "541908    581587     22138        BAKING SET 9 PIECE RETROSPOT          3   \n",
      "\n",
      "             InvoiceDate  UnitPrice  CustomerID         Country  \n",
      "0       2010-12-01 08:26       2.55     17850.0  United Kingdom  \n",
      "1       2010-12-01 08:26       3.39     17850.0  United Kingdom  \n",
      "2       2010-12-01 08:26       2.75     17850.0  United Kingdom  \n",
      "3       2010-12-01 08:26       3.39     17850.0  United Kingdom  \n",
      "4       2010-12-01 08:26       3.39     17850.0  United Kingdom  \n",
      "...                  ...        ...         ...             ...  \n",
      "541904  2011-12-09 12:50       0.85     12680.0          France  \n",
      "541905  2011-12-09 12:50       2.10     12680.0          France  \n",
      "541906  2011-12-09 12:50       4.15     12680.0          France  \n",
      "541907  2011-12-09 12:50       4.15     12680.0          France  \n",
      "541908  2011-12-09 12:50       4.95     12680.0          France  \n",
      "\n",
      "[540455 rows x 8 columns]\n"
     ]
    }
   ],
   "source": [
    "# Drop rows where the Description column is null\n",
    "df = df.dropna(subset=['Description'])\n",
    "\n",
    "# Verify the records are removed\n",
    "print(df)"
   ]
  },
  {
   "cell_type": "markdown",
   "metadata": {},
   "source": [
    "-------------------------------------------------------------------------------------"
   ]
  },
  {
   "cell_type": "markdown",
   "metadata": {},
   "source": [
    "sales_trends_over_time.csv"
   ]
  },
  {
   "cell_type": "code",
   "execution_count": 6,
   "metadata": {},
   "outputs": [],
   "source": [
    "df = pd.read_csv('UK_retailer_e_commerce_Data/sales_trends_over_time.csv', encoding='latin1')"
   ]
  },
  {
   "cell_type": "code",
   "execution_count": 7,
   "metadata": {},
   "outputs": [
    {
     "data": {
      "text/html": [
       "<div>\n",
       "<style scoped>\n",
       "    .dataframe tbody tr th:only-of-type {\n",
       "        vertical-align: middle;\n",
       "    }\n",
       "\n",
       "    .dataframe tbody tr th {\n",
       "        vertical-align: top;\n",
       "    }\n",
       "\n",
       "    .dataframe thead th {\n",
       "        text-align: right;\n",
       "    }\n",
       "</style>\n",
       "<table border=\"1\" class=\"dataframe\">\n",
       "  <thead>\n",
       "    <tr style=\"text-align: right;\">\n",
       "      <th></th>\n",
       "      <th>sales_date</th>\n",
       "      <th>gross_sales</th>\n",
       "      <th>returns</th>\n",
       "      <th>net_sales</th>\n",
       "    </tr>\n",
       "  </thead>\n",
       "  <tbody>\n",
       "    <tr>\n",
       "      <th>0</th>\n",
       "      <td>2010-12-01</td>\n",
       "      <td>58960.79</td>\n",
       "      <td>-325.23</td>\n",
       "      <td>58635.56</td>\n",
       "    </tr>\n",
       "    <tr>\n",
       "      <th>1</th>\n",
       "      <td>2010-12-02</td>\n",
       "      <td>47748.38</td>\n",
       "      <td>-1541.10</td>\n",
       "      <td>46207.28</td>\n",
       "    </tr>\n",
       "    <tr>\n",
       "      <th>2</th>\n",
       "      <td>2010-12-03</td>\n",
       "      <td>46943.71</td>\n",
       "      <td>-1323.25</td>\n",
       "      <td>45620.46</td>\n",
       "    </tr>\n",
       "    <tr>\n",
       "      <th>3</th>\n",
       "      <td>2010-12-05</td>\n",
       "      <td>31774.95</td>\n",
       "      <td>-391.00</td>\n",
       "      <td>31383.95</td>\n",
       "    </tr>\n",
       "    <tr>\n",
       "      <th>4</th>\n",
       "      <td>2010-12-06</td>\n",
       "      <td>54830.46</td>\n",
       "      <td>-970.28</td>\n",
       "      <td>53860.18</td>\n",
       "    </tr>\n",
       "    <tr>\n",
       "      <th>...</th>\n",
       "      <td>...</td>\n",
       "      <td>...</td>\n",
       "      <td>...</td>\n",
       "      <td>...</td>\n",
       "    </tr>\n",
       "    <tr>\n",
       "      <th>300</th>\n",
       "      <td>2011-12-05</td>\n",
       "      <td>88741.96</td>\n",
       "      <td>-30990.64</td>\n",
       "      <td>57751.32</td>\n",
       "    </tr>\n",
       "    <tr>\n",
       "      <th>301</th>\n",
       "      <td>2011-12-06</td>\n",
       "      <td>56713.21</td>\n",
       "      <td>-2484.84</td>\n",
       "      <td>54228.37</td>\n",
       "    </tr>\n",
       "    <tr>\n",
       "      <th>302</th>\n",
       "      <td>2011-12-07</td>\n",
       "      <td>75439.16</td>\n",
       "      <td>-362.94</td>\n",
       "      <td>75076.22</td>\n",
       "    </tr>\n",
       "    <tr>\n",
       "      <th>303</th>\n",
       "      <td>2011-12-08</td>\n",
       "      <td>82495.00</td>\n",
       "      <td>-1077.22</td>\n",
       "      <td>81417.78</td>\n",
       "    </tr>\n",
       "    <tr>\n",
       "      <th>304</th>\n",
       "      <td>2011-12-09</td>\n",
       "      <td>200920.60</td>\n",
       "      <td>-168789.07</td>\n",
       "      <td>32131.53</td>\n",
       "    </tr>\n",
       "  </tbody>\n",
       "</table>\n",
       "<p>305 rows × 4 columns</p>\n",
       "</div>"
      ],
      "text/plain": [
       "     sales_date  gross_sales    returns  net_sales\n",
       "0    2010-12-01     58960.79    -325.23   58635.56\n",
       "1    2010-12-02     47748.38   -1541.10   46207.28\n",
       "2    2010-12-03     46943.71   -1323.25   45620.46\n",
       "3    2010-12-05     31774.95    -391.00   31383.95\n",
       "4    2010-12-06     54830.46    -970.28   53860.18\n",
       "..          ...          ...        ...        ...\n",
       "300  2011-12-05     88741.96  -30990.64   57751.32\n",
       "301  2011-12-06     56713.21   -2484.84   54228.37\n",
       "302  2011-12-07     75439.16    -362.94   75076.22\n",
       "303  2011-12-08     82495.00   -1077.22   81417.78\n",
       "304  2011-12-09    200920.60 -168789.07   32131.53\n",
       "\n",
       "[305 rows x 4 columns]"
      ]
     },
     "execution_count": 7,
     "metadata": {},
     "output_type": "execute_result"
    }
   ],
   "source": [
    "df"
   ]
  },
  {
   "cell_type": "code",
   "execution_count": 8,
   "metadata": {},
   "outputs": [
    {
     "name": "stdout",
     "output_type": "stream",
     "text": [
      "Number of null values in gross_sales: 0\n"
     ]
    }
   ],
   "source": [
    "num_null_gross_sales = df['gross_sales'].isnull().sum()\n",
    "print(f\"Number of null values in gross_sales: {num_null_gross_sales}\")"
   ]
  },
  {
   "cell_type": "code",
   "execution_count": 11,
   "metadata": {},
   "outputs": [
    {
     "name": "stdout",
     "output_type": "stream",
     "text": [
      "<class 'pandas.core.frame.DataFrame'>\n",
      "RangeIndex: 22894 entries, 0 to 22893\n",
      "Data columns (total 4 columns):\n",
      " #   Column       Non-Null Count  Dtype  \n",
      "---  ------       --------------  -----  \n",
      " 0   Category     22894 non-null  object \n",
      " 1   InvoiceDate  22894 non-null  object \n",
      " 2   Quantity     22894 non-null  int64  \n",
      " 3   UnitPrice    22894 non-null  float64\n",
      "dtypes: float64(1), int64(1), object(2)\n",
      "memory usage: 715.6+ KB\n"
     ]
    }
   ],
   "source": [
    "df['Category'] = df.apply(lambda x: \n",
    "    \"Sales\" if x['Quantity'] > 0 and x['UnitPrice'] > 0 else\n",
    "    \"Returns\" if x['Quantity'] < 0 and x['UnitPrice'] > 0 else\n",
    "    \"Financial Adjustment\" if x['UnitPrice'] < 0 else\n",
    "    \"Manual Adjustment\", axis=1)\n",
    "\n",
    "sales_trends = df.groupby(['Category', 'InvoiceDate']).agg({\n",
    "    'Quantity': 'sum',\n",
    "    'UnitPrice': 'sum'\n",
    "}).reset_index()\n",
    "\n",
    "sales_trends.info()"
   ]
  },
  {
   "cell_type": "code",
   "execution_count": 11,
   "metadata": {},
   "outputs": [
    {
     "data": {
      "text/html": [
       "<div>\n",
       "<style scoped>\n",
       "    .dataframe tbody tr th:only-of-type {\n",
       "        vertical-align: middle;\n",
       "    }\n",
       "\n",
       "    .dataframe tbody tr th {\n",
       "        vertical-align: top;\n",
       "    }\n",
       "\n",
       "    .dataframe thead th {\n",
       "        text-align: right;\n",
       "    }\n",
       "</style>\n",
       "<table border=\"1\" class=\"dataframe\">\n",
       "  <thead>\n",
       "    <tr style=\"text-align: right;\">\n",
       "      <th></th>\n",
       "      <th>category</th>\n",
       "      <th>InvoiceDate</th>\n",
       "      <th>Quantity</th>\n",
       "      <th>UnitPrice</th>\n",
       "    </tr>\n",
       "  </thead>\n",
       "  <tbody>\n",
       "    <tr>\n",
       "      <th>0</th>\n",
       "      <td>Financial Adjustment</td>\n",
       "      <td>2011-08-12 14:51</td>\n",
       "      <td>1</td>\n",
       "      <td>-11062.06</td>\n",
       "    </tr>\n",
       "    <tr>\n",
       "      <th>1</th>\n",
       "      <td>Financial Adjustment</td>\n",
       "      <td>2011-08-12 14:52</td>\n",
       "      <td>1</td>\n",
       "      <td>-11062.06</td>\n",
       "    </tr>\n",
       "    <tr>\n",
       "      <th>2</th>\n",
       "      <td>Manual Adjustment</td>\n",
       "      <td>2010-12-03 12:08</td>\n",
       "      <td>35</td>\n",
       "      <td>0.00</td>\n",
       "    </tr>\n",
       "    <tr>\n",
       "      <th>3</th>\n",
       "      <td>Manual Adjustment</td>\n",
       "      <td>2010-12-03 16:50</td>\n",
       "      <td>-30</td>\n",
       "      <td>0.00</td>\n",
       "    </tr>\n",
       "    <tr>\n",
       "      <th>4</th>\n",
       "      <td>Manual Adjustment</td>\n",
       "      <td>2010-12-05 14:02</td>\n",
       "      <td>1</td>\n",
       "      <td>0.00</td>\n",
       "    </tr>\n",
       "    <tr>\n",
       "      <th>...</th>\n",
       "      <td>...</td>\n",
       "      <td>...</td>\n",
       "      <td>...</td>\n",
       "      <td>...</td>\n",
       "    </tr>\n",
       "    <tr>\n",
       "      <th>22889</th>\n",
       "      <td>Sales</td>\n",
       "      <td>2011-12-09 12:23</td>\n",
       "      <td>76</td>\n",
       "      <td>3.30</td>\n",
       "    </tr>\n",
       "    <tr>\n",
       "      <th>22890</th>\n",
       "      <td>Sales</td>\n",
       "      <td>2011-12-09 12:25</td>\n",
       "      <td>120</td>\n",
       "      <td>2.57</td>\n",
       "    </tr>\n",
       "    <tr>\n",
       "      <th>22891</th>\n",
       "      <td>Sales</td>\n",
       "      <td>2011-12-09 12:31</td>\n",
       "      <td>278</td>\n",
       "      <td>37.78</td>\n",
       "    </tr>\n",
       "    <tr>\n",
       "      <th>22892</th>\n",
       "      <td>Sales</td>\n",
       "      <td>2011-12-09 12:49</td>\n",
       "      <td>66</td>\n",
       "      <td>20.23</td>\n",
       "    </tr>\n",
       "    <tr>\n",
       "      <th>22893</th>\n",
       "      <td>Sales</td>\n",
       "      <td>2011-12-09 12:50</td>\n",
       "      <td>105</td>\n",
       "      <td>44.50</td>\n",
       "    </tr>\n",
       "  </tbody>\n",
       "</table>\n",
       "<p>22894 rows × 4 columns</p>\n",
       "</div>"
      ],
      "text/plain": [
       "                   category       InvoiceDate  Quantity  UnitPrice\n",
       "0      Financial Adjustment  2011-08-12 14:51         1  -11062.06\n",
       "1      Financial Adjustment  2011-08-12 14:52         1  -11062.06\n",
       "2         Manual Adjustment  2010-12-03 12:08        35       0.00\n",
       "3         Manual Adjustment  2010-12-03 16:50       -30       0.00\n",
       "4         Manual Adjustment  2010-12-05 14:02         1       0.00\n",
       "...                     ...               ...       ...        ...\n",
       "22889                 Sales  2011-12-09 12:23        76       3.30\n",
       "22890                 Sales  2011-12-09 12:25       120       2.57\n",
       "22891                 Sales  2011-12-09 12:31       278      37.78\n",
       "22892                 Sales  2011-12-09 12:49        66      20.23\n",
       "22893                 Sales  2011-12-09 12:50       105      44.50\n",
       "\n",
       "[22894 rows x 4 columns]"
      ]
     },
     "execution_count": 11,
     "metadata": {},
     "output_type": "execute_result"
    }
   ],
   "source": [
    "sales_trends"
   ]
  },
  {
   "cell_type": "code",
   "execution_count": 13,
   "metadata": {},
   "outputs": [],
   "source": [
    "# sales_trends\n",
    "\n",
    "sales_trends.to_csv('UK_retailer_e_commerce_Data/sales_trends1.csv', index=False, encoding='utf-8')"
   ]
  },
  {
   "cell_type": "code",
   "execution_count": 8,
   "metadata": {},
   "outputs": [],
   "source": [
    "df['TotalValue'] = df['Quantity'] * df['UnitPrice']"
   ]
  },
  {
   "cell_type": "code",
   "execution_count": 12,
   "metadata": {},
   "outputs": [],
   "source": [
    "sales_trends = df.groupby(['Category', 'InvoiceDate']).agg({\n",
    "    'Quantity': 'sum',  # Sum quantities for total items affected\n",
    "    'TotalValue': 'sum'  # Sum total values for monetary impact\n",
    "}).reset_index()"
   ]
  },
  {
   "cell_type": "code",
   "execution_count": 15,
   "metadata": {},
   "outputs": [
    {
     "ename": "KeyError",
     "evalue": "\"['UnitPrice'] not in index\"",
     "output_type": "error",
     "traceback": [
      "\u001b[1;31m---------------------------------------------------------------------------\u001b[0m",
      "\u001b[1;31mKeyError\u001b[0m                                  Traceback (most recent call last)",
      "Cell \u001b[1;32mIn[15], line 2\u001b[0m\n\u001b[0;32m      1\u001b[0m specific_time_data \u001b[38;5;241m=\u001b[39m sales_trends[sales_trends[\u001b[38;5;124m'\u001b[39m\u001b[38;5;124mInvoiceDate\u001b[39m\u001b[38;5;124m'\u001b[39m] \u001b[38;5;241m==\u001b[39m \u001b[38;5;124m'\u001b[39m\u001b[38;5;124m2010-12-01 10:24:00\u001b[39m\u001b[38;5;124m'\u001b[39m]\n\u001b[1;32m----> 2\u001b[0m \u001b[38;5;28mprint\u001b[39m(\u001b[43mspecific_time_data\u001b[49m\u001b[43m[\u001b[49m\u001b[43m[\u001b[49m\u001b[38;5;124;43m'\u001b[39;49m\u001b[38;5;124;43mQuantity\u001b[39;49m\u001b[38;5;124;43m'\u001b[39;49m\u001b[43m,\u001b[49m\u001b[43m \u001b[49m\u001b[38;5;124;43m'\u001b[39;49m\u001b[38;5;124;43mUnitPrice\u001b[39;49m\u001b[38;5;124;43m'\u001b[39;49m\u001b[43m,\u001b[49m\u001b[43m \u001b[49m\u001b[38;5;124;43m'\u001b[39;49m\u001b[38;5;124;43mTotalValue\u001b[39;49m\u001b[38;5;124;43m'\u001b[39;49m\u001b[43m]\u001b[49m\u001b[43m]\u001b[49m)\n",
      "File \u001b[1;32mc:\\Users\\rezal\\barchart_python_practice\\.venv\\Lib\\site-packages\\pandas\\core\\frame.py:4108\u001b[0m, in \u001b[0;36mDataFrame.__getitem__\u001b[1;34m(self, key)\u001b[0m\n\u001b[0;32m   4106\u001b[0m     \u001b[38;5;28;01mif\u001b[39;00m is_iterator(key):\n\u001b[0;32m   4107\u001b[0m         key \u001b[38;5;241m=\u001b[39m \u001b[38;5;28mlist\u001b[39m(key)\n\u001b[1;32m-> 4108\u001b[0m     indexer \u001b[38;5;241m=\u001b[39m \u001b[38;5;28;43mself\u001b[39;49m\u001b[38;5;241;43m.\u001b[39;49m\u001b[43mcolumns\u001b[49m\u001b[38;5;241;43m.\u001b[39;49m\u001b[43m_get_indexer_strict\u001b[49m\u001b[43m(\u001b[49m\u001b[43mkey\u001b[49m\u001b[43m,\u001b[49m\u001b[43m \u001b[49m\u001b[38;5;124;43m\"\u001b[39;49m\u001b[38;5;124;43mcolumns\u001b[39;49m\u001b[38;5;124;43m\"\u001b[39;49m\u001b[43m)\u001b[49m[\u001b[38;5;241m1\u001b[39m]\n\u001b[0;32m   4110\u001b[0m \u001b[38;5;66;03m# take() does not accept boolean indexers\u001b[39;00m\n\u001b[0;32m   4111\u001b[0m \u001b[38;5;28;01mif\u001b[39;00m \u001b[38;5;28mgetattr\u001b[39m(indexer, \u001b[38;5;124m\"\u001b[39m\u001b[38;5;124mdtype\u001b[39m\u001b[38;5;124m\"\u001b[39m, \u001b[38;5;28;01mNone\u001b[39;00m) \u001b[38;5;241m==\u001b[39m \u001b[38;5;28mbool\u001b[39m:\n",
      "File \u001b[1;32mc:\\Users\\rezal\\barchart_python_practice\\.venv\\Lib\\site-packages\\pandas\\core\\indexes\\base.py:6200\u001b[0m, in \u001b[0;36mIndex._get_indexer_strict\u001b[1;34m(self, key, axis_name)\u001b[0m\n\u001b[0;32m   6197\u001b[0m \u001b[38;5;28;01melse\u001b[39;00m:\n\u001b[0;32m   6198\u001b[0m     keyarr, indexer, new_indexer \u001b[38;5;241m=\u001b[39m \u001b[38;5;28mself\u001b[39m\u001b[38;5;241m.\u001b[39m_reindex_non_unique(keyarr)\n\u001b[1;32m-> 6200\u001b[0m \u001b[38;5;28;43mself\u001b[39;49m\u001b[38;5;241;43m.\u001b[39;49m\u001b[43m_raise_if_missing\u001b[49m\u001b[43m(\u001b[49m\u001b[43mkeyarr\u001b[49m\u001b[43m,\u001b[49m\u001b[43m \u001b[49m\u001b[43mindexer\u001b[49m\u001b[43m,\u001b[49m\u001b[43m \u001b[49m\u001b[43maxis_name\u001b[49m\u001b[43m)\u001b[49m\n\u001b[0;32m   6202\u001b[0m keyarr \u001b[38;5;241m=\u001b[39m \u001b[38;5;28mself\u001b[39m\u001b[38;5;241m.\u001b[39mtake(indexer)\n\u001b[0;32m   6203\u001b[0m \u001b[38;5;28;01mif\u001b[39;00m \u001b[38;5;28misinstance\u001b[39m(key, Index):\n\u001b[0;32m   6204\u001b[0m     \u001b[38;5;66;03m# GH 42790 - Preserve name from an Index\u001b[39;00m\n",
      "File \u001b[1;32mc:\\Users\\rezal\\barchart_python_practice\\.venv\\Lib\\site-packages\\pandas\\core\\indexes\\base.py:6252\u001b[0m, in \u001b[0;36mIndex._raise_if_missing\u001b[1;34m(self, key, indexer, axis_name)\u001b[0m\n\u001b[0;32m   6249\u001b[0m     \u001b[38;5;28;01mraise\u001b[39;00m \u001b[38;5;167;01mKeyError\u001b[39;00m(\u001b[38;5;124mf\u001b[39m\u001b[38;5;124m\"\u001b[39m\u001b[38;5;124mNone of [\u001b[39m\u001b[38;5;132;01m{\u001b[39;00mkey\u001b[38;5;132;01m}\u001b[39;00m\u001b[38;5;124m] are in the [\u001b[39m\u001b[38;5;132;01m{\u001b[39;00maxis_name\u001b[38;5;132;01m}\u001b[39;00m\u001b[38;5;124m]\u001b[39m\u001b[38;5;124m\"\u001b[39m)\n\u001b[0;32m   6251\u001b[0m not_found \u001b[38;5;241m=\u001b[39m \u001b[38;5;28mlist\u001b[39m(ensure_index(key)[missing_mask\u001b[38;5;241m.\u001b[39mnonzero()[\u001b[38;5;241m0\u001b[39m]]\u001b[38;5;241m.\u001b[39munique())\n\u001b[1;32m-> 6252\u001b[0m \u001b[38;5;28;01mraise\u001b[39;00m \u001b[38;5;167;01mKeyError\u001b[39;00m(\u001b[38;5;124mf\u001b[39m\u001b[38;5;124m\"\u001b[39m\u001b[38;5;132;01m{\u001b[39;00mnot_found\u001b[38;5;132;01m}\u001b[39;00m\u001b[38;5;124m not in index\u001b[39m\u001b[38;5;124m\"\u001b[39m)\n",
      "\u001b[1;31mKeyError\u001b[0m: \"['UnitPrice'] not in index\""
     ]
    }
   ],
   "source": [
    "specific_time_data = sales_trends[sales_trends['InvoiceDate'] == '2010-12-01 10:24:00']\n",
    "print(specific_time_data[['Quantity', 'UnitPrice', 'TotalValue']])"
   ]
  },
  {
   "cell_type": "markdown",
   "metadata": {},
   "source": [
    "new dataset UK_ecommerce_gross_sales_etc3"
   ]
  },
  {
   "cell_type": "code",
   "execution_count": 11,
   "metadata": {},
   "outputs": [],
   "source": [
    "df = pd.read_csv('UK_retailer_e_commerce_Data/UK_ecommerce_gross_sales_etc3.csv', delimiter=',')"
   ]
  },
  {
   "cell_type": "code",
   "execution_count": 12,
   "metadata": {},
   "outputs": [
    {
     "name": "stdout",
     "output_type": "stream",
     "text": [
      "<class 'pandas.core.frame.DataFrame'>\n",
      "RangeIndex: 19571 entries, 0 to 19570\n",
      "Data columns (total 5 columns):\n",
      " #   Column       Non-Null Count  Dtype  \n",
      "---  ------       --------------  -----  \n",
      " 0   sales_date   19571 non-null  object \n",
      " 1   CustomerID   19296 non-null  float64\n",
      " 2   gross_sales  19571 non-null  float64\n",
      " 3   returns      19571 non-null  float64\n",
      " 4   net_sales    19571 non-null  float64\n",
      "dtypes: float64(4), object(1)\n",
      "memory usage: 764.6+ KB\n"
     ]
    }
   ],
   "source": [
    "df.info()"
   ]
  },
  {
   "cell_type": "code",
   "execution_count": 13,
   "metadata": {},
   "outputs": [
    {
     "data": {
      "text/html": [
       "<div>\n",
       "<style scoped>\n",
       "    .dataframe tbody tr th:only-of-type {\n",
       "        vertical-align: middle;\n",
       "    }\n",
       "\n",
       "    .dataframe tbody tr th {\n",
       "        vertical-align: top;\n",
       "    }\n",
       "\n",
       "    .dataframe thead th {\n",
       "        text-align: right;\n",
       "    }\n",
       "</style>\n",
       "<table border=\"1\" class=\"dataframe\">\n",
       "  <thead>\n",
       "    <tr style=\"text-align: right;\">\n",
       "      <th></th>\n",
       "      <th>sales_date</th>\n",
       "      <th>CustomerID</th>\n",
       "      <th>gross_sales</th>\n",
       "      <th>returns</th>\n",
       "      <th>net_sales</th>\n",
       "    </tr>\n",
       "  </thead>\n",
       "  <tbody>\n",
       "    <tr>\n",
       "      <th>0</th>\n",
       "      <td>2010-12-01</td>\n",
       "      <td>NaN</td>\n",
       "      <td>12584.30</td>\n",
       "      <td>0.0</td>\n",
       "      <td>12584.30</td>\n",
       "    </tr>\n",
       "    <tr>\n",
       "      <th>1</th>\n",
       "      <td>2010-12-01</td>\n",
       "      <td>12431.0</td>\n",
       "      <td>358.25</td>\n",
       "      <td>0.0</td>\n",
       "      <td>358.25</td>\n",
       "    </tr>\n",
       "    <tr>\n",
       "      <th>2</th>\n",
       "      <td>2010-12-01</td>\n",
       "      <td>12433.0</td>\n",
       "      <td>1919.14</td>\n",
       "      <td>0.0</td>\n",
       "      <td>1919.14</td>\n",
       "    </tr>\n",
       "    <tr>\n",
       "      <th>3</th>\n",
       "      <td>2010-12-01</td>\n",
       "      <td>12472.0</td>\n",
       "      <td>0.00</td>\n",
       "      <td>-122.3</td>\n",
       "      <td>-122.30</td>\n",
       "    </tr>\n",
       "    <tr>\n",
       "      <th>4</th>\n",
       "      <td>2010-12-01</td>\n",
       "      <td>12583.0</td>\n",
       "      <td>855.86</td>\n",
       "      <td>0.0</td>\n",
       "      <td>855.86</td>\n",
       "    </tr>\n",
       "    <tr>\n",
       "      <th>...</th>\n",
       "      <td>...</td>\n",
       "      <td>...</td>\n",
       "      <td>...</td>\n",
       "      <td>...</td>\n",
       "      <td>...</td>\n",
       "    </tr>\n",
       "    <tr>\n",
       "      <th>19566</th>\n",
       "      <td>2011-12-09</td>\n",
       "      <td>17428.0</td>\n",
       "      <td>415.60</td>\n",
       "      <td>0.0</td>\n",
       "      <td>415.60</td>\n",
       "    </tr>\n",
       "    <tr>\n",
       "      <th>19567</th>\n",
       "      <td>2011-12-09</td>\n",
       "      <td>17490.0</td>\n",
       "      <td>730.70</td>\n",
       "      <td>0.0</td>\n",
       "      <td>730.70</td>\n",
       "    </tr>\n",
       "    <tr>\n",
       "      <th>19568</th>\n",
       "      <td>2011-12-09</td>\n",
       "      <td>17581.0</td>\n",
       "      <td>984.68</td>\n",
       "      <td>0.0</td>\n",
       "      <td>984.68</td>\n",
       "    </tr>\n",
       "    <tr>\n",
       "      <th>19569</th>\n",
       "      <td>2011-12-09</td>\n",
       "      <td>17754.0</td>\n",
       "      <td>200.99</td>\n",
       "      <td>0.0</td>\n",
       "      <td>200.99</td>\n",
       "    </tr>\n",
       "    <tr>\n",
       "      <th>19570</th>\n",
       "      <td>2011-12-09</td>\n",
       "      <td>18102.0</td>\n",
       "      <td>469.44</td>\n",
       "      <td>0.0</td>\n",
       "      <td>469.44</td>\n",
       "    </tr>\n",
       "  </tbody>\n",
       "</table>\n",
       "<p>19571 rows × 5 columns</p>\n",
       "</div>"
      ],
      "text/plain": [
       "       sales_date  CustomerID  gross_sales  returns  net_sales\n",
       "0      2010-12-01         NaN     12584.30      0.0   12584.30\n",
       "1      2010-12-01     12431.0       358.25      0.0     358.25\n",
       "2      2010-12-01     12433.0      1919.14      0.0    1919.14\n",
       "3      2010-12-01     12472.0         0.00   -122.3    -122.30\n",
       "4      2010-12-01     12583.0       855.86      0.0     855.86\n",
       "...           ...         ...          ...      ...        ...\n",
       "19566  2011-12-09     17428.0       415.60      0.0     415.60\n",
       "19567  2011-12-09     17490.0       730.70      0.0     730.70\n",
       "19568  2011-12-09     17581.0       984.68      0.0     984.68\n",
       "19569  2011-12-09     17754.0       200.99      0.0     200.99\n",
       "19570  2011-12-09     18102.0       469.44      0.0     469.44\n",
       "\n",
       "[19571 rows x 5 columns]"
      ]
     },
     "execution_count": 13,
     "metadata": {},
     "output_type": "execute_result"
    }
   ],
   "source": [
    "df"
   ]
  },
  {
   "cell_type": "markdown",
   "metadata": {},
   "source": [
    "25 - 01 - 2025 \n",
    "\n",
    "sales metrics (proto) A1"
   ]
  },
  {
   "cell_type": "code",
   "execution_count": 9,
   "metadata": {},
   "outputs": [
    {
     "name": "stdout",
     "output_type": "stream",
     "text": [
      "Total Revenue: £9,747,747.93\n",
      "Gross Sales: £10,644,560.42\n",
      "Returns: £-896,812.49\n",
      "Net Sales: £9,747,747.93\n"
     ]
    }
   ],
   "source": [
    "# Round all numeric columns globally\n",
    "df = df.round(2)\n",
    "\n",
    "# Calculate Total Revenue and round\n",
    "df['Sales'] = (df['Quantity'] * df['UnitPrice']).round(2)  # Ensure 'Sales' is rounded to 2 decimal places\n",
    "\n",
    "# Aggregate metrics\n",
    "total_revenue = df['Sales'].sum().round(2)\n",
    "gross_sales = df.loc[df['Quantity'] > 0, 'Sales'].sum().round(2)\n",
    "returns = df.loc[df['Quantity'] < 0, 'Sales'].sum().round(2)\n",
    "net_sales = (gross_sales + returns).round(2)\n",
    "\n",
    "# Output Results with currency and comma formatting\n",
    "print(f\"Total Revenue: £{total_revenue:,.2f}\")\n",
    "print(f\"Gross Sales: £{gross_sales:,.2f}\")\n",
    "print(f\"Returns: £{returns:,.2f}\")\n",
    "print(f\"Net Sales: £{net_sales:,.2f}\")\n"
   ]
  },
  {
   "cell_type": "code",
   "execution_count": 13,
   "metadata": {},
   "outputs": [
    {
     "data": {
      "image/png": "[encoded data removed]",
      "text/plain": [
       "<Figure size 1000x600 with 1 Axes>"
      ]
     },
     "metadata": {},
     "output_type": "display_data"
    }
   ],
   "source": [
    "# Define values for the waterfall chart\n",
    "gross_sales = 10644560.42\n",
    "returns = -896812.49\n",
    "net_sales = 9747747.93\n",
    "\n",
    "# Define categories and cumulative values\n",
    "categories = [\"Gross Sales\", \"Returns\", \"Net Sales\"]\n",
    "values = [gross_sales, returns, net_sales]\n",
    "cumulative = np.cumsum([0] + values[:-1])  # Positioning for bars\n",
    "\n",
    "# Define colors (green for gains, red for losses, blue for final value)\n",
    "colors = [\"green\" if val > 0 else \"red\" for val in values]\n",
    "\n",
    "# Create the waterfall chart\n",
    "fig, ax = plt.subplots(figsize=(10, 6))\n",
    "ax.bar(categories, values, bottom=cumulative, color=colors)\n",
    "\n",
    "# Add labels to bars\n",
    "for i, v in enumerate(values):\n",
    "    ax.text(i, cumulative[i] + (v / 2), f\"£{v:,.2f}\", ha=\"center\", fontsize=10, color=\"black\")\n",
    "\n",
    "# Formatting\n",
    "ax.set_title(\"Waterfall Chart of Sales Metrics\")\n",
    "ax.set_ylabel(\"Amount (£)\")\n",
    "ax.axhline(0, color='black', linewidth=0.8)\n",
    "\n",
    "# Show the chart\n",
    "plt.show()\n"
   ]
  },
  {
   "cell_type": "code",
   "execution_count": 10,
   "metadata": {},
   "outputs": [
    {
     "name": "stdout",
     "output_type": "stream",
     "text": [
      "Number of Unique Customers: 4372\n",
      "Repeat Customer Rate: 98.19%\n"
     ]
    }
   ],
   "source": [
    "# Number of Unique Customers\n",
    "unique_customers = df['CustomerID'].nunique()\n",
    "\n",
    "# Repeat Customer Rate\n",
    "# Count total customers who made more than one transaction\n",
    "repeat_customers = df['CustomerID'].value_counts()[df['CustomerID'].value_counts() > 1].count()\n",
    "repeat_customer_rate = (repeat_customers / unique_customers) * 100\n",
    "\n",
    "# Output Results\n",
    "print(f\"Number of Unique Customers: {unique_customers}\")\n",
    "print(f\"Repeat Customer Rate: {repeat_customer_rate:.2f}%\")"
   ]
  },
  {
   "cell_type": "code",
   "execution_count": 14,
   "metadata": {},
   "outputs": [
    {
     "data": {
      "image/png": "[encoded data removed]",
      "text/plain": [
       "<Figure size 700x700 with 1 Axes>"
      ]
     },
     "metadata": {},
     "output_type": "display_data"
    }
   ],
   "source": [
    "# Data for the donut chart\n",
    "labels = [\"Repeat Customers\", \"One-Time Customers\"]\n",
    "values = [98.19, 1.81]  # Using percentages from A2\n",
    "\n",
    "# Colors\n",
    "colors = [\"#4CAF50\", \"#FF5733\"]  # Green for repeat, red for one-time\n",
    "\n",
    "# Create donut chart\n",
    "fig, ax = plt.subplots(figsize=(7, 7))\n",
    "ax.pie(values, labels=labels, autopct='%1.2f%%', startangle=90, colors=colors, wedgeprops={'edgecolor': 'white'}, pctdistance=0.85)\n",
    "\n",
    "# Draw center circle to make it a donut\n",
    "centre_circle = plt.Circle((0, 0), 0.70, fc='white')\n",
    "fig.gca().add_artist(centre_circle)\n",
    "\n",
    "# Title\n",
    "plt.title(\"Repeat Customer Rate\")\n",
    "\n",
    "# Show chart\n",
    "plt.show()\n"
   ]
  },
  {
   "cell_type": "markdown",
   "metadata": {},
   "source": [
    "30 - 01 - 2025 \n",
    "\n",
    "sales metrics (proto) order KPI A3"
   ]
  },
  {
   "cell_type": "code",
   "execution_count": 15,
   "metadata": {},
   "outputs": [
    {
     "name": "stdout",
     "output_type": "stream",
     "text": [
      "Total Orders: 24446\n",
      "Average Order Value (AOV): £398.75\n"
     ]
    }
   ],
   "source": [
    "# Total Orders (Count of unique InvoiceNo)\n",
    "total_orders = df['InvoiceNo'].nunique()\n",
    "\n",
    "# Average Order Value (AOV) = Total Revenue / Total Orders\n",
    "aov = (df['Sales'].sum() / total_orders).round(2)\n",
    "\n",
    "# Output Results\n",
    "print(f\"Total Orders: {total_orders}\")\n",
    "print(f\"Average Order Value (AOV): £{aov:,.2f}\")\n"
   ]
  },
  {
   "cell_type": "markdown",
   "metadata": {},
   "source": [
    "dont like the top 10 revenue generating products to include non numeric stockcode"
   ]
  },
  {
   "cell_type": "code",
   "execution_count": 19,
   "metadata": {},
   "outputs": [
    {
     "name": "stdout",
     "output_type": "stream",
     "text": [
      "Updated Revenue-Generating Products (Excluding Non-Products):\n",
      "  StockCode      Sales\n",
      "0     22423  164762.19\n",
      "1     47566   98302.98\n",
      "2    85123A   97894.50\n",
      "3    85099B   92356.03\n",
      "4     23084   66756.59\n",
      "5     22086   63791.94\n",
      "6     84879   58959.73\n",
      "7     79321   53768.06\n",
      "8     22502   51041.37\n",
      "9     22197   50987.47\n"
     ]
    }
   ],
   "source": [
    "# Define non-product stock codes (identified previously)\n",
    "non_product_codes = ['POST', 'D', 'C2', 'DOT', 'M', 'S', 'PADS', 'B', 'CRUK']\n",
    "\n",
    "# Filter out non-product revenue before aggregation\n",
    "filtered_df = df[~df[\"StockCode\"].isin(non_product_codes)]\n",
    "\n",
    "# Revenue-Generating Products (excluding non-product codes)\n",
    "revenue_generating_products = filtered_df.groupby(\"StockCode\")[\"Sales\"].sum().reset_index()\n",
    "revenue_generating_products = revenue_generating_products.sort_values(by=\"Sales\", ascending=False).reset_index(drop=True)\n",
    "\n",
    "# Display updated results\n",
    "print(\"Updated Revenue-Generating Products (Excluding Non-Products):\")\n",
    "print(revenue_generating_products.head(10))\n"
   ]
  },
  {
   "cell_type": "markdown",
   "metadata": {},
   "source": [
    "top selling products revenue generating products(A4)"
   ]
  },
  {
   "cell_type": "code",
   "execution_count": null,
   "metadata": {},
   "outputs": [
    {
     "name": "stdout",
     "output_type": "stream",
     "text": [
      "Top-Selling Products (by Quantity Sold):\n",
      "     StockCode  Quantity\n",
      "1112     22197     56450\n",
      "2931     84077     53847\n",
      "3418    85099B     47363\n",
      "3438    85123A     38830\n",
      "3219     84879     36221\n",
      "440      21212     36039\n",
      "1947     23084     30314\n",
      "1377     22492     26437\n",
      "1495     22616     26315\n",
      "933      21977     24753\n",
      "\n",
      "Revenue-Generating Products (by Sales Revenue):\n",
      "     StockCode      Sales\n",
      "1313     22423  164762.19\n",
      "2680     47566   98302.98\n",
      "3438    85123A   97894.50\n",
      "3418    85099B   92356.03\n",
      "1947     23084   66756.59\n",
      "1009     22086   63791.94\n",
      "3219     84879   58959.73\n",
      "2860     79321   53768.06\n",
      "1387     22502   51041.37\n",
      "1112     22197   50987.47\n"
     ]
    }
   ],
   "source": [
    "# Top-Selling Products (by Quantity Sold)\n",
    "top_selling_products = filtered_df.groupby(\"StockCode\")[\"Quantity\"].sum().reset_index()\n",
    "top_selling_products = top_selling_products.sort_values(by=\"Quantity\", ascending=False)\n",
    "\n",
    "# Revenue-Generating Products (by Sales Revenue)\n",
    "revenue_generating_products = filtered_df.groupby(\"StockCode\")[\"Sales\"].sum().reset_index()\n",
    "revenue_generating_products = revenue_generating_products.sort_values(by=\"Sales\", ascending=False)\n",
    "\n",
    "# Display Results\n",
    "print(\"Top-Selling Products (by Quantity Sold):\")\n",
    "print(top_selling_products.head(10))  # Show top 10\n",
    "\n",
    "print(\"\\nRevenue-Generating Products (by Sales Revenue):\")\n",
    "print(revenue_generating_products.head(10))  # Show top 10\n",
    "\n"
   ]
  },
  {
   "cell_type": "code",
   "execution_count": 21,
   "metadata": {},
   "outputs": [
    {
     "data": {
      "image/png": "[encoded data removed]",
      "text/plain": [
       "<Figure size 1200x1000 with 2 Axes>"
      ]
     },
     "metadata": {},
     "output_type": "display_data"
    }
   ],
   "source": [
    "# Reconstructing the top-selling products data (Filtered A4 Output)\n",
    "top_selling_products = {\n",
    "    \"StockCode\": [\"22197\", \"84077\", \"85099B\", \"85123A\", \"84879\", \"21212\", \"23084\", \"22492\", \"22616\", \"21977\"],\n",
    "    \"Quantity\": [56450, 53847, 47363, 38830, 36221, 36039, 30314, 26437, 26315, 24753]\n",
    "}\n",
    "\n",
    "# Reconstructing the revenue-generating products data (Filtered A4 Output)\n",
    "revenue_generating_products = {\n",
    "    \"StockCode\": [\"22423\", \"47566\", \"85123A\", \"85099B\", \"23084\", \"22086\", \"84879\", \"79321\", \"22502\", \"22197\"],\n",
    "    \"Sales\": [164762.19, 98302.98, 97894.50, 92356.03, 66756.59, 63791.94, 58959.73, 53768.06, 51041.37, 50987.47]\n",
    "}\n",
    "\n",
    "# Convert to Pandas DataFrames\n",
    "top_selling_df = pd.DataFrame(top_selling_products)\n",
    "revenue_generating_df = pd.DataFrame(revenue_generating_products)\n",
    "\n",
    "# Create figure and axes\n",
    "fig, ax = plt.subplots(2, 1, figsize=(12, 10))\n",
    "\n",
    "# Plot Top-Selling Products by Quantity (Updated Data)\n",
    "ax[0].barh(top_selling_df[\"StockCode\"], top_selling_df[\"Quantity\"], color=\"skyblue\")\n",
    "ax[0].set_title(\"Top 10 Best-Selling Products (by Quantity Sold)\")\n",
    "ax[0].set_xlabel(\"Total Quantity Sold\")\n",
    "ax[0].invert_yaxis()  # Flip to show highest at the top\n",
    "\n",
    "# Plot Revenue-Generating Products by Sales (Updated Data)\n",
    "ax[1].barh(revenue_generating_df[\"StockCode\"], revenue_generating_df[\"Sales\"], color=\"orange\")\n",
    "ax[1].set_title(\"Top 10 Revenue-Generating Products (by Sales)\")\n",
    "ax[1].set_xlabel(\"Total Sales (£)\")\n",
    "ax[1].invert_yaxis()  # Flip to show highest at the top\n",
    "\n",
    "# Adjust layout and show the plot\n",
    "plt.tight_layout()\n",
    "plt.show()\n",
    "\n"
   ]
  },
  {
   "cell_type": "markdown",
   "metadata": {},
   "source": [
    "sales by country (A5)"
   ]
  },
  {
   "cell_type": "code",
   "execution_count": 22,
   "metadata": {},
   "outputs": [
    {
     "name": "stdout",
     "output_type": "stream",
     "text": [
      "Top 10 Countries by Total Sales:\n",
      "          Country       Sales\n",
      "0  United Kingdom  8187806.36\n",
      "1     Netherlands   284661.54\n",
      "2            EIRE   263276.82\n",
      "3         Germany   221698.21\n",
      "4          France   197403.90\n",
      "5       Australia   137077.27\n",
      "6     Switzerland    56385.35\n",
      "7           Spain    54774.58\n",
      "8         Belgium    40910.96\n",
      "9          Sweden    36595.91\n"
     ]
    }
   ],
   "source": [
    "# Calculate total sales by country\n",
    "sales_by_country = df.groupby(\"Country\")[\"Sales\"].sum().reset_index()\n",
    "\n",
    "# Sort countries by total sales (highest to lowest)\n",
    "sales_by_country = sales_by_country.sort_values(by=\"Sales\", ascending=False).reset_index(drop=True)\n",
    "\n",
    "# Display the top 10 countries by total sales\n",
    "print(\"Top 10 Countries by Total Sales:\")\n",
    "print(sales_by_country.head(10))\n"
   ]
  },
  {
   "cell_type": "code",
   "execution_count": 8,
   "metadata": {},
   "outputs": [
    {
     "data": {
      "image/png": "[encoded data removed]",
      "text/plain": [
       "<Figure size 1200x600 with 1 Axes>"
      ]
     },
     "metadata": {},
     "output_type": "display_data"
    }
   ],
   "source": [
    "# Reconstructing the sales by country data (Sample A5 Output)\n",
    "sales_by_country = {\n",
    "    \"Country\": [\"United Kingdom\", \"Germany\", \"France\", \"Australia\", \"Netherlands\", \"Switzerland\", \"Spain\", \"Belgium\", \"Norway\", \"Portugal\"],\n",
    "    \"Sales\": [7300000.50, 520000.25, 480000.75, 310000.30, 290000.90, 220000.80, 200000.45, 190000.15, 180000.60, 170000.35]\n",
    "}\n",
    "\n",
    "# Convert to Pandas DataFrame\n",
    "sales_df = pd.DataFrame(sales_by_country)\n",
    "\n",
    "# Sort values in descending order for better visualization\n",
    "sales_df = sales_df.sort_values(by=\"Sales\", ascending=False)\n",
    "\n",
    "# Create bar chart\n",
    "fig, ax = plt.subplots(figsize=(12, 6))\n",
    "ax.barh(sales_df[\"Country\"], sales_df[\"Sales\"], color=\"royalblue\")\n",
    "\n",
    "# Formatting\n",
    "ax.set_title(\"Total Sales by Country\", fontsize=14)\n",
    "ax.set_xlabel(\"Total Sales (£)\", fontsize=12)\n",
    "ax.set_ylabel(\"Country\", fontsize=12)\n",
    "ax.invert_yaxis()  # Highest value at the top\n",
    "\n",
    "# Add labels to bars\n",
    "for i, v in enumerate(sales_df[\"Sales\"]):\n",
    "    ax.text(v + 50000, i, f\"£{v:,.2f}\", va=\"center\", fontsize=10)\n",
    "\n",
    "# Show plot\n",
    "plt.show()\n"
   ]
  }
 ],
 "metadata": {
  "kernelspec": {
   "display_name": ".venv",
   "language": "python",
   "name": "python3"
  },
  "language_info": {
   "codemirror_mode": {
    "name": "ipython",
    "version": 3
   },
   "file_extension": ".py",
   "mimetype": "text/x-python",
   "name": "python",
   "nbconvert_exporter": "python",
   "pygments_lexer": "ipython3",
   "version": "3.11.4"
  }
 },
 "nbformat": 4,
 "nbformat_minor": 2
}
